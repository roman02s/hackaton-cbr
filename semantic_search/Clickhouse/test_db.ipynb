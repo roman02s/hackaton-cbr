{
 "cells": [
  {
   "cell_type": "code",
   "execution_count": 4,
   "metadata": {},
   "outputs": [],
   "source": [
    "from clickhouse_driver import Client\n",
    "\n",
    "# Подключение к ClickHouse\n",
    "client = Client(host='localhost', port=18123)\n"
   ]
  },
  {
   "cell_type": "code",
   "execution_count": null,
   "metadata": {},
   "outputs": [],
   "source": [
    "\n",
    "# Запрос на вставку данных\n",
    "insert_query = '''\n",
    "    INSERT INTO example_table (id, name, age) VALUES\n",
    "    (1, 'John', 30),\n",
    "    (2, 'Alice', 25),\n",
    "    (3, 'Bob', 35)\n",
    "'''\n",
    "\n",
    "# Выполнение запроса на вставку данных\n",
    "client.execute(insert_query)\n"
   ]
  },
  {
   "cell_type": "code",
   "execution_count": null,
   "metadata": {},
   "outputs": [],
   "source": [
    "\n",
    "# Запрос на выборку данных\n",
    "select_query = 'SELECT * FROM example_table'\n",
    "\n",
    "# Выполнение запроса на выборку данных\n",
    "result = client.execute(select_query)\n",
    "\n",
    "# Вывод результатов\n",
    "print(\"Результаты выборки:\")\n",
    "for row in result:\n",
    "    print(row)\n",
    "\n",
    "# Закрытие соединения с ClickHouse\n",
    "client.disconnect()\n"
   ]
  }
 ],
 "metadata": {
  "kernelspec": {
   "display_name": "venv",
   "language": "python",
   "name": "python3"
  },
  "language_info": {
   "codemirror_mode": {
    "name": "ipython",
    "version": 3
   },
   "file_extension": ".py",
   "mimetype": "text/x-python",
   "name": "python",
   "nbconvert_exporter": "python",
   "pygments_lexer": "ipython3",
   "version": "3.10.11"
  }
 },
 "nbformat": 4,
 "nbformat_minor": 2
}
